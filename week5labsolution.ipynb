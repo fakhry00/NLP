{
 "cells": [
  {
   "cell_type": "markdown",
   "metadata": {},
   "source": [
    "\n",
    "# Lab 5: Neural Language Models\n",
    "\n",
    "This week we are going to be looking at using the pytorch library to build a simple feedforward neural language model.  This notebook is adapted from one of the pytorch tutorials and includes code by Robert Guthrie as well as my own.\n",
    "\n",
    "https://pytorch.org/tutorials/beginner/nlp/word_embeddings_tutorial.html#sphx-glr-beginner-nlp-word-embeddings-tutorial-py\n",
    "\n",
    "\n",
    "### Word Embeddings in Pytorch\n",
    "\n",
    "Before we get to a worked example and some exercises, a few quick notes\n",
    "about how to use embeddings in Pytorch.  First, we need to define an index for each word\n",
    "when using embeddings. These will be keys into a lookup table. That is,\n",
    "embeddings are stored as a $|V| \\times D$ matrix, where $D$\n",
    "is the dimensionality of the embeddings, such that the word assigned\n",
    "index $i$ has its embedding stored in the $i$'th row of the\n",
    "matrix. In all of my code, the mapping from words to indices is a\n",
    "dictionary named word\\_to\\_ix.\n",
    "\n",
    "The module that allows you to use embeddings is torch.nn.Embedding,\n",
    "which takes two arguments: the vocabulary size, and the dimensionality\n",
    "of the embeddings.\n",
    "\n",
    "To index into this table, you must use torch.LongTensor (since the\n",
    "indices are integers, not floats).\n",
    "\n",
    "\n"
   ]
  },
  {
   "cell_type": "code",
   "execution_count": 1,
   "metadata": {},
   "outputs": [],
   "source": [
    "#!pip install -U torch --user\n"
   ]
  },
  {
   "cell_type": "code",
   "execution_count": 2,
   "metadata": {},
   "outputs": [
    {
     "data": {
      "text/plain": [
       "<torch._C.Generator at 0x2b1c5dc6948>"
      ]
     },
     "execution_count": 2,
     "metadata": {},
     "output_type": "execute_result"
    }
   ],
   "source": [
    "# Standard pytorch imports\n",
    "# Author: Robert Guthrie\n",
    "\n",
    "import torch\n",
    "import torch.nn as nn\n",
    "import torch.nn.functional as F\n",
    "import torch.optim as optim\n",
    "\n",
    "torch.manual_seed(1)"
   ]
  },
  {
   "cell_type": "code",
   "execution_count": 4,
   "metadata": {},
   "outputs": [
    {
     "name": "stdout",
     "output_type": "stream",
     "text": [
      "tensor([0])\n",
      "tensor([[-0.8923, -0.0583, -0.1955, -0.9656,  0.4224]],\n",
      "       grad_fn=<EmbeddingBackward0>)\n"
     ]
    }
   ],
   "source": [
    "word_to_ix = {\"hello\": 0, \"world\": 1}\n",
    "embeds = nn.Embedding(2, 5)  # 2 words in vocab, 5 dimensional embeddings\n",
    "lookup_tensor = torch.tensor([word_to_ix[\"hello\"]], dtype=torch.long)\n",
    "hello_embed = embeds(lookup_tensor)\n",
    "print(lookup_tensor)\n",
    "print(hello_embed)"
   ]
  },
  {
   "cell_type": "code",
   "execution_count": 5,
   "metadata": {},
   "outputs": [
    {
     "name": "stdout",
     "output_type": "stream",
     "text": [
      "tensor([[ 0.2673, -0.4212, -0.5107, -1.5727, -0.1232]],\n",
      "       grad_fn=<EmbeddingBackward0>)\n"
     ]
    }
   ],
   "source": [
    "current_tensor = torch.tensor([word_to_ix[\"world\"]], dtype =torch.long)\n",
    "print(embeds(current_tensor))"
   ]
  },
  {
   "cell_type": "code",
   "execution_count": 20,
   "metadata": {},
   "outputs": [
    {
     "name": "stdout",
     "output_type": "stream",
     "text": [
      "tensor([[ 1.8364,  1.3245, -0.9690,  1.2516,  1.2103, -0.5279,  0.2186, -0.5743,\n",
      "          1.4571,  1.7710]], grad_fn=<EmbeddingBackward0>)\n"
     ]
    }
   ],
   "source": [
    "embeds1 = nn.Embedding(3, 10)\n",
    "t = torch.tensor([0],dtype= torch.long)\n",
    "t1 = torch.tensor([2],dtype= torch.long)\n",
    "print(embeds1(t1))"
   ]
  },
  {
   "cell_type": "code",
   "execution_count": null,
   "metadata": {},
   "outputs": [],
   "source": []
  },
  {
   "cell_type": "markdown",
   "metadata": {},
   "source": [
    "## An Example: N-Gram Language Modeling\n",
    "\n",
    "\n",
    "Recall that in an n-gram language model, given a sequence of words\n",
    "$w$, we want to compute\n",
    "\n",
    "\\begin{align}P(w_i | w_{i-1}, w_{i-2}, \\dots, w_{i-n+1} )\\end{align}\n",
    "\n",
    "where $w_i$ is the ith word of the sequence.\n",
    "\n",
    "In this example, we will compute the loss function on some training\n",
    "examples and update the parameters with backpropagation.\n",
    "\n",
    "\n"
   ]
  },
  {
   "cell_type": "code",
   "execution_count": 21,
   "metadata": {},
   "outputs": [
    {
     "name": "stdout",
     "output_type": "stream",
     "text": [
      "[([\"feel'st\", 'it'], 'cold'), (['it', 'cold'], '.'), (['cold', '.'], '__END')]\n"
     ]
    }
   ],
   "source": [
    "from nltk import word_tokenize as tokenize\n",
    "\n",
    "CONTEXT_SIZE = 2  #this is the amount of preceding context to consider\n",
    "EMBEDDING_DIM = 10  #this is the dimension of the embeddings\n",
    "# We will use Shakespeare Sonnet 2\n",
    "test_sentence = [\"__END\",\"__START\"]+tokenize(\"\"\"When forty winters shall besiege thy brow,\n",
    "And dig deep trenches in thy beauty's field,\n",
    "Thy youth's proud livery so gazed on now,\n",
    "Will be a totter'd weed of small worth held:\n",
    "Then being asked, where all thy beauty lies,\n",
    "Where all the treasure of thy lusty days;\n",
    "To say, within thine own deep sunken eyes,\n",
    "Were an all-eating shame, and thriftless praise.\n",
    "How much more praise deserv'd thy beauty's use,\n",
    "If thou couldst answer 'This fair child of mine\n",
    "Shall sum my count, and make my old excuse,'\n",
    "Proving his beauty by succession thine!\n",
    "This were to be new made when thou art old,\n",
    "And see thy blood warm when thou feel'st it cold.\"\"\")+[\"__END\"]\n",
    "\n",
    "# build a list of tuples.  Each tuple is ([ word_i-2, word_i-1 ], target word)\n",
    "trigrams = [([test_sentence[i], test_sentence[i + 1]], test_sentence[i + 2])\n",
    "            for i in range(len(test_sentence) - 2)]\n",
    "# print the last 3, just so you can see what they look like\n",
    "print(trigrams[-3:])\n",
    "\n"
   ]
  },
  {
   "cell_type": "markdown",
   "metadata": {},
   "source": [
    "We need to find the set of words making up the vocabulary and create the word_to_ix index.  We'll also make a reverse index ix_to_word at the same time so that we can look up a word associated with an index."
   ]
  },
  {
   "cell_type": "code",
   "execution_count": 23,
   "metadata": {},
   "outputs": [
    {
     "data": {
      "text/plain": [
       "{'And': 0,\n",
       " 'treasure': 1,\n",
       " 'so': 2,\n",
       " 'lies': 3,\n",
       " 'fair': 4,\n",
       " 'and': 5,\n",
       " \"'\": 6,\n",
       " 'within': 7,\n",
       " 'thy': 8,\n",
       " 'field': 9,\n",
       " 'Proving': 10,\n",
       " 'the': 11,\n",
       " 'small': 12,\n",
       " 'an': 13,\n",
       " '__START': 14,\n",
       " 'were': 15,\n",
       " 'weed': 16,\n",
       " 'couldst': 17,\n",
       " 'Thy': 18,\n",
       " ',': 19,\n",
       " 'thine': 20,\n",
       " 'where': 21,\n",
       " 'To': 22,\n",
       " 'forty': 23,\n",
       " 'Were': 24,\n",
       " 'Shall': 25,\n",
       " 'trenches': 26,\n",
       " 'all-eating': 27,\n",
       " 'shame': 28,\n",
       " 'How': 29,\n",
       " 'This': 30,\n",
       " 'now': 31,\n",
       " 'when': 32,\n",
       " 'say': 33,\n",
       " 'answer': 34,\n",
       " 'totter': 35,\n",
       " 'make': 36,\n",
       " 'by': 37,\n",
       " 'more': 38,\n",
       " 'to': 39,\n",
       " 'it': 40,\n",
       " 'see': 41,\n",
       " '!': 42,\n",
       " 'brow': 43,\n",
       " 'blood': 44,\n",
       " 'deep': 45,\n",
       " ';': 46,\n",
       " 'succession': 47,\n",
       " 'sunken': 48,\n",
       " 'art': 49,\n",
       " 'Will': 50,\n",
       " 'a': 51,\n",
       " 'deserv': 52,\n",
       " 'own': 53,\n",
       " 'use': 54,\n",
       " 'warm': 55,\n",
       " 'worth': 56,\n",
       " 'proud': 57,\n",
       " 'excuse': 58,\n",
       " 'besiege': 59,\n",
       " 'shall': 60,\n",
       " 'of': 61,\n",
       " 'new': 62,\n",
       " \"feel'st\": 63,\n",
       " ':': 64,\n",
       " 'livery': 65,\n",
       " 'gazed': 66,\n",
       " 'eyes': 67,\n",
       " 'all': 68,\n",
       " 'much': 69,\n",
       " 'lusty': 70,\n",
       " 'praise': 71,\n",
       " 'dig': 72,\n",
       " 'When': 73,\n",
       " 'Where': 74,\n",
       " 'be': 75,\n",
       " 'on': 76,\n",
       " 'old': 77,\n",
       " \"'s\": 78,\n",
       " 'thriftless': 79,\n",
       " 'asked': 80,\n",
       " '.': 81,\n",
       " 'made': 82,\n",
       " '__END': 83,\n",
       " 'his': 84,\n",
       " 'cold': 85,\n",
       " 'count': 86,\n",
       " 'in': 87,\n",
       " 'winters': 88,\n",
       " 'held': 89,\n",
       " 'being': 90,\n",
       " 'mine': 91,\n",
       " 'thou': 92,\n",
       " \"'This\": 93,\n",
       " 'Then': 94,\n",
       " 'my': 95,\n",
       " 'If': 96,\n",
       " 'beauty': 97,\n",
       " 'days': 98,\n",
       " 'sum': 99,\n",
       " \"'d\": 100,\n",
       " 'youth': 101,\n",
       " 'child': 102}"
      ]
     },
     "execution_count": 23,
     "metadata": {},
     "output_type": "execute_result"
    }
   ],
   "source": [
    "#find the vocabulary and create the index\n",
    "vocab = set(test_sentence)\n",
    "word_to_ix = {word: i for i, word in enumerate(vocab)}\n",
    "ix_to_word = {i: word for i, word in enumerate(vocab)}\n",
    "word_to_ix"
   ]
  },
  {
   "cell_type": "markdown",
   "metadata": {},
   "source": [
    "Now we have our basic NGramLanguageModeler class.  It inherits from the nn.Module class\n",
    "\n",
    "https://pytorch.org/docs/stable/generated/torch.nn.Module.html\n",
    "\n",
    "Essentially, the ``__init__`` method is used to define the neural network.  We have a set of embeddings (vocab_size by embedding_dim) and then 2 linear layers.  The first (or hidden) layer has 128 neurons each with context_size * embedding_dim inputs.  The size of the second layer is equal to the vocab_size, where each neuron has 128 inputs (one from each neuron in the preceding layer).  The value at each of the neurons in this output layer will tell us the probability of each word in the vocabulary as the next word in the sequence.\n",
    "\n",
    "The ``forward`` method is used to run the network in forward mode i.e., give it some inputs and get some outputs.  Activation functions are added to each layer - the hidden layer has a relu function applied to each neuron and the output layer outputs go through a softmax in order to create a probability distribution.\n",
    "\n",
    "The ``train`` method iterates over the corpus for a certain number of epochs.  The embeddings for the current context are selected and passed to the model's ``forward`` method.  The log probability of the current target word according to the output is used to compute the loss (i.e., how likely is the target word given the current parameters) and this is then back-propagated through the network via stochastic gradient descent.  It also prints the losses on each epoch - so you can see whether this is decreasing."
   ]
  },
  {
   "cell_type": "code",
   "execution_count": 24,
   "metadata": {},
   "outputs": [
    {
     "name": "stdout",
     "output_type": "stream",
     "text": [
      "[650.0658881664276, 645.7276191711426, 641.444412946701, 637.2136976718903, 633.0340721607208, 628.9052002429962, 624.8282358646393, 620.8043622970581, 616.8328104019165, 612.9143197536469]\n"
     ]
    }
   ],
   "source": [
    "class NGramLanguageModeler(nn.Module):\n",
    "\n",
    "    def __init__(self, vocab_size, embedding_dim, context_size):\n",
    "        super(NGramLanguageModeler, self).__init__()\n",
    "        self.embeddings = nn.Embedding(vocab_size, embedding_dim)\n",
    "        self.linear1 = nn.Linear(context_size * embedding_dim, 128)\n",
    "        self.linear2 = nn.Linear(128, vocab_size)\n",
    "\n",
    "    def forward(self, inputs):\n",
    "        embeds = self.embeddings(inputs).view((1, -1))\n",
    "        out = F.relu(self.linear1(embeds))\n",
    "        out = self.linear2(out)\n",
    "        log_probs = F.log_softmax(out, dim=1)\n",
    "        return log_probs\n",
    "\n",
    "\n",
    "    def train(self,inputngrams,loss_function=nn.NLLLoss(),lr=0.001,epochs=10):\n",
    "        optimizer=optim.SGD(self.parameters(),lr=lr)\n",
    "        \n",
    "        losses=[]\n",
    "        for epoch in range(epochs):\n",
    "            total_loss = 0\n",
    "            for context, target in inputngrams:\n",
    "\n",
    "                # Step 1. Prepare the inputs to be passed to the model (i.e, turn the words\n",
    "                # into integer indices and wrap them in tensors)\n",
    "                context_idxs = torch.tensor([word_to_ix[w] for w in context], dtype=torch.long)\n",
    "\n",
    "                # Step 2. Recall that torch *accumulates* gradients. Before passing in a\n",
    "                # new instance, you need to zero out the gradients from the old\n",
    "                # instance\n",
    "                self.zero_grad()\n",
    "\n",
    "                # Step 3. Run the forward pass, getting log probabilities over next\n",
    "                # words\n",
    "                log_probs = self.forward(context_idxs)\n",
    "\n",
    "                # Step 4. Compute your loss function. (Again, Torch wants the target\n",
    "                # word wrapped in a tensor)\n",
    "                loss = loss_function(log_probs, torch.tensor([word_to_ix[target]], dtype=torch.long))\n",
    "\n",
    "                # Step 5. Do the backward pass and update the gradient\n",
    "                loss.backward()\n",
    "                optimizer.step()\n",
    "            \n",
    "                # Get the Python number from a 1-element Tensor by calling tensor.item()\n",
    "                total_loss += loss.item()\n",
    "            losses.append(total_loss)\n",
    "        print(losses)\n",
    "\n",
    "\n",
    "model = NGramLanguageModeler(len(vocab), EMBEDDING_DIM, CONTEXT_SIZE)\n",
    "model.train(trigrams)"
   ]
  },
  {
   "cell_type": "markdown",
   "metadata": {},
   "source": [
    "Now, we are going to some generation with the model.  I've added some extra methods to the class which reflect the methods we had in our ngram language model in week 2.  See if you can work out what each step is doing in each of:\n",
    "* `get_logprob()`\n",
    "* `nextlikely()`\n",
    "* `generate()`"
   ]
  },
  {
   "cell_type": "code",
   "execution_count": 25,
   "metadata": {},
   "outputs": [],
   "source": [
    "import math,random\n",
    "\n",
    "class NGramLanguageModeler(nn.Module):\n",
    "\n",
    "    def __init__(self, vocab_size, embedding_dim, context_size):\n",
    "        super(NGramLanguageModeler, self).__init__()\n",
    "        self.embeddings = nn.Embedding(vocab_size, embedding_dim)\n",
    "        self.linear1 = nn.Linear(context_size * embedding_dim, 128)\n",
    "        self.linear2 = nn.Linear(128, vocab_size)\n",
    "\n",
    "    def forward(self, inputs):\n",
    "        embeds = self.embeddings(inputs).view((1, -1))\n",
    "        out = F.relu(self.linear1(embeds))\n",
    "        out = self.linear2(out)\n",
    "        log_probs = F.log_softmax(out, dim=1)\n",
    "        return log_probs\n",
    "\n",
    "    def get_logprob(self,context,target):\n",
    "        #return the logprob of the target word given the context\n",
    "        context_idxs = torch.tensor([word_to_ix[w] for w in context], dtype=torch.long)\n",
    "        log_probs = self.forward(context_idxs)\n",
    "        target_idx=torch.tensor(word_to_ix[target],dtype=torch.long)\n",
    "        return log_probs.index_select(1,target_idx).item()\n",
    "        \n",
    "        \n",
    "    def nextlikely(self,context):\n",
    "        #sample the distribution of target words given the context\n",
    "        context_idxs = torch.tensor([word_to_ix[w] for w in context], dtype=torch.long)\n",
    "        log_probs = self.forward(context_idxs)\n",
    "        probs=[math.exp(x) for x in log_probs.flatten().tolist()]\n",
    "        t=random.choices(list(range(len(probs))),weights=probs,k=1)\n",
    "        return ix_to_word[t[0]]\n",
    "    \n",
    "    def generate(self,limit=20):\n",
    "        #generate a sequence of tokens according to the model\n",
    "        tokens=[\"__END\",\"__START\"]\n",
    "        while tokens[-1]!=\"__END\" and len(tokens)<limit:\n",
    "            current=self.nextlikely(tokens[-2:])\n",
    "            tokens.append(current)\n",
    "        return \" \".join(tokens[2:-1])\n",
    "    \n",
    "    def train(self,inputngrams,loss_function=nn.NLLLoss(),lr=0.001,epochs=10):\n",
    "        optimizer=optim.SGD(self.parameters(),lr=lr)\n",
    "        \n",
    "        losses=[]\n",
    "        for epoch in range(epochs):\n",
    "            total_loss = 0\n",
    "            for context, target in inputngrams:\n",
    "\n",
    "                # Step 1. Prepare the inputs to be passed to the model (i.e, turn the words\n",
    "                # into integer indices and wrap them in tensors)\n",
    "                context_idxs = torch.tensor([word_to_ix[w] for w in context], dtype=torch.long)\n",
    "\n",
    "                # Step 2. Recall that torch *accumulates* gradients. Before passing in a\n",
    "                # new instance, you need to zero out the gradients from the old\n",
    "                # instance\n",
    "                self.zero_grad()\n",
    "\n",
    "                # Step 3. Run the forward pass, getting log probabilities over next\n",
    "                # words\n",
    "                log_probs = self.forward(context_idxs)\n",
    "\n",
    "                # Step 4. Compute your loss function. (Again, Torch wants the target\n",
    "                # word wrapped in a tensor)\n",
    "                loss = loss_function(log_probs, torch.tensor([word_to_ix[target]], dtype=torch.long))\n",
    "\n",
    "                # Step 5. Do the backward pass and update the gradient\n",
    "                loss.backward()\n",
    "                optimizer.step()\n",
    "            \n",
    "                # Get the Python number from a 1-element Tensor by calling tensor.item()\n",
    "                total_loss += loss.item()\n",
    "            losses.append(total_loss)\n",
    "        print(losses)"
   ]
  },
  {
   "cell_type": "code",
   "execution_count": 26,
   "metadata": {},
   "outputs": [
    {
     "name": "stdout",
     "output_type": "stream",
     "text": [
      "[655.952837228775, 651.2776608467102, 646.6703987121582, 642.128392457962, 637.6519110202789, 633.2422695159912, 628.8977048397064, 624.6163980960846, 620.4011492729187, 616.2509779930115]\n"
     ]
    }
   ],
   "source": [
    "model = NGramLanguageModeler(len(vocab), EMBEDDING_DIM, CONTEXT_SIZE)\n",
    "model.train(trigrams)\n"
   ]
  },
  {
   "cell_type": "code",
   "execution_count": 27,
   "metadata": {},
   "outputs": [
    {
     "data": {
      "text/plain": [
       "-4.745121002197266"
      ]
     },
     "execution_count": 27,
     "metadata": {},
     "output_type": "execute_result"
    }
   ],
   "source": [
    "model.get_logprob([\"his\",\"field\"],\".\")"
   ]
  },
  {
   "cell_type": "code",
   "execution_count": 37,
   "metadata": {},
   "outputs": [
    {
     "data": {
      "text/plain": [
       "'sum'"
      ]
     },
     "execution_count": 37,
     "metadata": {},
     "output_type": "execute_result"
    }
   ],
   "source": [
    "word=model.nextlikely([\"his\",\"field\"])\n",
    "word"
   ]
  },
  {
   "cell_type": "code",
   "execution_count": 39,
   "metadata": {},
   "outputs": [
    {
     "data": {
      "text/plain": [
       "\"small Thy his field warm . Will To an 's an To Shall dig own child when\""
      ]
     },
     "execution_count": 39,
     "metadata": {},
     "output_type": "execute_result"
    }
   ],
   "source": [
    "model.generate()"
   ]
  },
  {
   "cell_type": "markdown",
   "metadata": {},
   "source": [
    "### Exercise 1\n",
    "* Train your neural language model on the training split of the corpus for the Microsoft Research Sentence Completion Challenge (see lab 2).\n",
    "* Generate some likely sequences"
   ]
  },
  {
   "cell_type": "markdown",
   "metadata": {},
   "source": [
    "Note that this will take a long time to run even if you only give it one file to process.  Reducing the size of the vocabulary (in exercise 2) will improve the run time and the ability of the model to generalise."
   ]
  },
  {
   "cell_type": "code",
   "execution_count": 42,
   "metadata": {},
   "outputs": [
    {
     "name": "stdout",
     "output_type": "stream",
     "text": [
      "There are 522 files in the training directory: lab2resources/sentence-completion/Holmes_Training_Data\n"
     ]
    }
   ],
   "source": [
    "import os\n",
    "TRAINING_DIR=\"lab2resources/sentence-completion/Holmes_Training_Data\"  #this needs to be the parent directory for the training corpus\n",
    "\n",
    "def get_training_testing(training_dir=TRAINING_DIR,split=0.5):\n",
    "\n",
    "    filenames=os.listdir(training_dir)\n",
    "    n=len(filenames)\n",
    "    print(\"There are {} files in the training directory: {}\".format(n,training_dir))\n",
    "    random.seed(53)  #if you want the same random split every time\n",
    "    random.shuffle(filenames)\n",
    "    index=int(n*split)\n",
    "    return(filenames[:index],filenames[index:])\n",
    "\n",
    "trainingfiles,heldoutfiles=get_training_testing()\n"
   ]
  },
  {
   "cell_type": "code",
   "execution_count": 43,
   "metadata": {},
   "outputs": [
    {
     "data": {
      "text/plain": [
       "261"
      ]
     },
     "execution_count": 43,
     "metadata": {},
     "output_type": "execute_result"
    }
   ],
   "source": [
    "len(trainingfiles)"
   ]
  },
  {
   "cell_type": "code",
   "execution_count": 44,
   "metadata": {},
   "outputs": [],
   "source": [
    "class NGramLanguageModeler(nn.Module):\n",
    "\n",
    "    def __init__(self, embedding_dim, context_size):\n",
    "        super(NGramLanguageModeler, self).__init__()\n",
    "        self.embedding_dim=embedding_dim\n",
    "        self.context_size=context_size\n",
    "        self.hidden_size=128\n",
    "        \n",
    "    def initialise(self):\n",
    "        self.embeddings = nn.Embedding(self.vocab_size, self.embedding_dim)\n",
    "        self.linear1 = nn.Linear(self.context_size * self.embedding_dim, self.hidden_size)\n",
    "        self.linear2 = nn.Linear(self.hidden_size, self.vocab_size)\n",
    "\n",
    "    def forward(self, inputs):\n",
    "        embeds = self.embeddings(inputs).view((1, -1))\n",
    "        out = F.relu(self.linear1(embeds))\n",
    "        out = self.linear2(out)\n",
    "        log_probs = F.log_softmax(out, dim=1)\n",
    "        return log_probs\n",
    "\n",
    "    def get_logprob(self,context,target):\n",
    "        #return the logprob of the target word given the context\n",
    "        context_idxs = torch.tensor([self.word_to_ix[w] for w in context], dtype=torch.long)\n",
    "        log_probs = self.forward(context_idxs)\n",
    "        target_idx=torch.tensor(self.word_to_ix[target],dtype=torch.long)\n",
    "        return log_probs.index_select(1,target_idx).item()\n",
    "        \n",
    "        \n",
    "    def nextlikely(self,context):\n",
    "        #sample the distribution of target words given the context\n",
    "        context_idxs = torch.tensor([self.word_to_ix[w] for w in context], dtype=torch.long)\n",
    "        log_probs = self.forward(context_idxs)\n",
    "        probs=[math.exp(x) for x in log_probs.flatten().tolist()]\n",
    "        t=random.choices(list(range(len(probs))),weights=probs,k=1)\n",
    "        return self.ix_to_word[t[0]]\n",
    "    \n",
    "    def generate(self,limit=20):\n",
    "        #generate a sequence of tokens according to the model\n",
    "        tokens=[\"__END\",\"__START\"]\n",
    "        while tokens[-1]!=\"__END\" and len(tokens)<limit:\n",
    "            current=self.nextlikely(tokens[-2:])\n",
    "            tokens.append(current)\n",
    "        return \" \".join(tokens[2:-1])\n",
    "    \n",
    "    def train(self,inputngrams,loss_function=nn.NLLLoss(),lr=0.001,epochs=3):\n",
    "        optimizer=optim.SGD(self.parameters(),lr=lr)\n",
    "        \n",
    "        losses=[]\n",
    "        for epoch in range(epochs):\n",
    "            total_loss = 0\n",
    "            for context, target in inputngrams:\n",
    "\n",
    "                # Step 1. Prepare the inputs to be passed to the model (i.e, turn the words\n",
    "                # into integer indices and wrap them in tensors)\n",
    "                context_idxs = torch.tensor([self.word_to_ix[w] for w in context], dtype=torch.long)\n",
    "\n",
    "                # Step 2. Recall that torch *accumulates* gradients. Before passing in a\n",
    "                # new instance, you need to zero out the gradients from the old\n",
    "                # instance\n",
    "                self.zero_grad()\n",
    "\n",
    "                # Step 3. Run the forward pass, getting log probabilities over next\n",
    "                # words\n",
    "                log_probs = self.forward(context_idxs)\n",
    "\n",
    "                # Step 4. Compute your loss function. (Again, Torch wants the target\n",
    "                # word wrapped in a tensor)\n",
    "                loss = loss_function(log_probs, torch.tensor([self.word_to_ix[target]], dtype=torch.long))\n",
    "\n",
    "                # Step 5. Do the backward pass and update the gradient\n",
    "                loss.backward()\n",
    "                optimizer.step()\n",
    "            \n",
    "                # Get the Python number from a 1-element Tensor by calling tensor.item()\n",
    "                total_loss += loss.item()\n",
    "            losses.append(total_loss)\n",
    "            print(\"Completed epoch {} with loss {}\".format(epoch,total_loss))\n",
    "        return losses\n",
    "        \n",
    "    \n",
    "    def train_from_corpus(self,training_dir=TRAINING_DIR,files=[]):\n",
    "        alltokens=[\"__END\"]\n",
    "        #reading corpus and tokenize\n",
    "        for afile in files:\n",
    "            print(\"Reading {}\".format(afile))\n",
    "            try:\n",
    "                with open(os.path.join(training_dir,afile)) as instream:\n",
    "                    for line in instream:\n",
    "                        line=line.rstrip()\n",
    "                        if len(line)>0:\n",
    "                            tokens=[\"__START\"]+tokenize(line)+[\"__END\"]\n",
    "                            alltokens+=tokens\n",
    "            except UnicodeDecodeError:\n",
    "                print(\"UnicodeDecodeError reading {}: ignoring file\".format(afile))\n",
    "        \n",
    "        \n",
    "        #get the vocab and build the indexes\n",
    "        self.vocab = set(alltokens)\n",
    "        self.word_to_ix = {word: i for i, word in enumerate(self.vocab)}\n",
    "        self.ix_to_word = {i: word for i, word in enumerate(self.vocab)}\n",
    "        \n",
    "        #MUST SET THE VOCAB SIZE and INITIALISE THE NN\n",
    "        self.vocab_size=len(self.vocab) \n",
    "        print(\"Vocabulary size is {}\".format(self.vocab_size))\n",
    "        self.initialise()\n",
    "        \n",
    "        #convert to trigrams\n",
    "        trigrams = [([alltokens[i], alltokens[i + 1]], alltokens[i + 2])\n",
    "            for i in range(len(alltokens) - 2)]\n",
    "        \n",
    "        print(\"Starting training\")\n",
    "        #train using the trigrams\n",
    "        self.train(trigrams)\n",
    "        \n",
    "        "
   ]
  },
  {
   "cell_type": "code",
   "execution_count": null,
   "metadata": {},
   "outputs": [
    {
     "name": "stdout",
     "output_type": "stream",
     "text": [
      "Reading DYNMT10.TXT\n",
      "Vocabulary size is 9356\n",
      "Starting training\n"
     ]
    }
   ],
   "source": [
    "MAX_FILES=1\n",
    "model = NGramLanguageModeler(EMBEDDING_DIM, CONTEXT_SIZE)\n",
    "model.train_from_corpus(files=trainingfiles[:MAX_FILES])"
   ]
  },
  {
   "cell_type": "markdown",
   "metadata": {},
   "source": [
    "### Exercise 2\n",
    "* Modify your model so that all words in the vocabulary with frequency less than a threshold (e.g, 2) are replaced by the \"\\_\\_UNK\" token\n",
    "* Generate some likely sequences"
   ]
  },
  {
   "cell_type": "code",
   "execution_count": 20,
   "metadata": {},
   "outputs": [],
   "source": [
    "class NGramLanguageModeler(nn.Module):\n",
    "\n",
    "    def __init__(self, embedding_dim, context_size):\n",
    "        super(NGramLanguageModeler, self).__init__()\n",
    "        self.embedding_dim=embedding_dim\n",
    "        self.context_size=context_size\n",
    "        self.hidden_size=128\n",
    "        self.threshold=20\n",
    "        \n",
    "    def initialise(self):\n",
    "        self.embeddings = nn.Embedding(self.vocab_size, self.embedding_dim)\n",
    "        self.linear1 = nn.Linear(self.context_size * self.embedding_dim, self.hidden_size)\n",
    "        self.linear2 = nn.Linear(self.hidden_size, self.vocab_size)\n",
    "\n",
    "    def forward(self, inputs):\n",
    "        embeds = self.embeddings(inputs).view((1, -1))\n",
    "        out = F.relu(self.linear1(embeds))\n",
    "        out = self.linear2(out)\n",
    "        log_probs = F.log_softmax(out, dim=1)\n",
    "        return log_probs\n",
    "\n",
    "    def get_logprob(self,context,target):\n",
    "        #return the logprob of the target word given the context\n",
    "        context_idxs = torch.tensor([self.word_to_ix[w] for w in context], dtype=torch.long)\n",
    "        log_probs = self.forward(context_idxs)\n",
    "        target_idx=torch.tensor(self.word_to_ix[target],dtype=torch.long)\n",
    "        return log_probs.index_select(1,target_idx).item()\n",
    "        \n",
    "        \n",
    "    def nextlikely(self,context):\n",
    "        #sample the distribution of target words given the context\n",
    "        context_idxs = torch.tensor([self.word_to_ix[w] for w in context], dtype=torch.long)\n",
    "        log_probs = self.forward(context_idxs)\n",
    "        probs=[math.exp(x) for x in log_probs.flatten().tolist()]\n",
    "        t=random.choices(list(range(len(probs))),weights=probs,k=1)\n",
    "        return self.ix_to_word[t[0]]\n",
    "    \n",
    "    def generate(self,limit=20):\n",
    "        #generate a sequence of tokens according to the model\n",
    "        tokens=[\"__END\",\"__START\"]\n",
    "        while tokens[-1]!=\"__END\" and len(tokens)<limit:\n",
    "            current=self.nextlikely(tokens[-2:])\n",
    "            tokens.append(current)\n",
    "        return \" \".join(tokens[2:-1])\n",
    "    \n",
    "    def train(self,inputngrams,loss_function=nn.NLLLoss(),lr=0.001,epochs=3):\n",
    "        optimizer=optim.SGD(self.parameters(),lr=lr)\n",
    "        \n",
    "        losses=[]\n",
    "        for epoch in range(epochs):\n",
    "            total_loss = 0\n",
    "            for context, target in inputngrams:\n",
    "\n",
    "                # Step 1. Prepare the inputs to be passed to the model (i.e, turn the words\n",
    "                # into integer indices and wrap them in tensors)\n",
    "                context_idxs = torch.tensor([self.word_to_ix[w] for w in context], dtype=torch.long)\n",
    "\n",
    "                # Step 2. Recall that torch *accumulates* gradients. Before passing in a\n",
    "                # new instance, you need to zero out the gradients from the old\n",
    "                # instance\n",
    "                self.zero_grad()\n",
    "\n",
    "                # Step 3. Run the forward pass, getting log probabilities over next\n",
    "                # words\n",
    "                log_probs = self.forward(context_idxs)\n",
    "\n",
    "                # Step 4. Compute your loss function. (Again, Torch wants the target\n",
    "                # word wrapped in a tensor)\n",
    "                loss = loss_function(log_probs, torch.tensor([self.word_to_ix[target]], dtype=torch.long))\n",
    "\n",
    "                # Step 5. Do the backward pass and update the gradient\n",
    "                loss.backward()\n",
    "                optimizer.step()\n",
    "            \n",
    "                # Get the Python number from a 1-element Tensor by calling tensor.item()\n",
    "                total_loss += loss.item()\n",
    "            losses.append(total_loss)\n",
    "            print(\"Completed epoch {} with loss {}\".format(epoch,total_loss))\n",
    "        return losses\n",
    "        \n",
    "    \n",
    "    def train_from_corpus(self,training_dir=TRAINING_DIR,files=[]):\n",
    "        alltokens=[\"__END\"]\n",
    "        #reading corpus and tokenize\n",
    "        for afile in files:\n",
    "            print(\"Reading {}\".format(afile))\n",
    "            try:\n",
    "                with open(os.path.join(training_dir,afile)) as instream:\n",
    "                    for line in instream:\n",
    "                        line=line.rstrip()\n",
    "                        if len(line)>0:\n",
    "                            tokens=[\"__START\"]+tokenize(line)+[\"__END\"]\n",
    "                            alltokens+=tokens\n",
    "            except UnicodeDecodeError:\n",
    "                print(\"UnicodeDecodeError reading {}: ignoring file\".format(afile))\n",
    "        \n",
    "        \n",
    "        #get the vocab and build the indexes\n",
    "        self.vocab={}\n",
    "        for token in alltokens:\n",
    "            self.vocab[token]=self.vocab.get(token,0)+1\n",
    "            \n",
    "        #delete unknown words from vocab\n",
    "        unknowns=0\n",
    "        for key,value in list(self.vocab.items()):\n",
    "            if value < self.threshold:\n",
    "                unknowns+=value\n",
    "                self.vocab.pop(key,None)\n",
    "        self.vocab[\"__UNK\"]=unknowns\n",
    "        \n",
    "        self.word_to_ix = {word: i for i, word in enumerate(list(self.vocab.keys()))}\n",
    "        self.ix_to_word = {i: word for i, word in enumerate(list(self.vocab.keys()))}\n",
    "        \n",
    "        #MUST SET THE VOCAB SIZE and INITIALISE THE NN\n",
    "        self.vocab_size=len(self.vocab) \n",
    "        print(\"Vocabulary size is {}\".format(self.vocab_size))\n",
    "        self.initialise()\n",
    "        \n",
    "        #replace unknown words\n",
    "        \n",
    "        filteredtokens=[]\n",
    "        for token in alltokens:\n",
    "            if token in self.vocab.keys():\n",
    "                filteredtokens.append(token)\n",
    "            else:\n",
    "                filteredtokens.append(\"__UNK\")\n",
    "        #convert to trigrams\n",
    "        trigrams = [([filteredtokens[i], filteredtokens[i + 1]], filteredtokens[i + 2])\n",
    "            for i in range(len(filteredtokens) - 2)]\n",
    "        \n",
    "        print(\"Starting training\")\n",
    "        #train using the trigrams\n",
    "        self.train(trigrams)\n",
    "        \n",
    "        "
   ]
  },
  {
   "cell_type": "code",
   "execution_count": 21,
   "metadata": {},
   "outputs": [
    {
     "name": "stdout",
     "output_type": "stream",
     "text": [
      "Reading 19TOM10.TXT\n",
      "Vocabulary size is 337\n",
      "Starting training\n",
      "Completed epoch 0 with loss 259365.3370163194\n",
      "Completed epoch 1 with loss 239335.00261359243\n",
      "Completed epoch 2 with loss 232010.74302355712\n"
     ]
    }
   ],
   "source": [
    "MAX_FILES=1\n",
    "model = NGramLanguageModeler(EMBEDDING_DIM, CONTEXT_SIZE)\n",
    "model.train_from_corpus(files=trainingfiles[:MAX_FILES])"
   ]
  },
  {
   "cell_type": "code",
   "execution_count": 48,
   "metadata": {},
   "outputs": [
    {
     "data": {
      "text/plain": [
       "\"been , no cry few , __UNK you and much set , '' he be us\""
      ]
     },
     "execution_count": 48,
     "metadata": {},
     "output_type": "execute_result"
    }
   ],
   "source": [
    "model.generate()"
   ]
  },
  {
   "cell_type": "markdown",
   "metadata": {},
   "source": [
    "### Exercise 3\n",
    "* Calculate the perplexity of the test corpus according to your NLM"
   ]
  },
  {
   "cell_type": "code",
   "execution_count": null,
   "metadata": {},
   "outputs": [],
   "source": []
  },
  {
   "cell_type": "markdown",
   "metadata": {},
   "source": [
    "### Exercise 4\n",
    "* Try some different embedding sizes\n",
    "* Plot a graph of perplexity against embedding size"
   ]
  },
  {
   "cell_type": "code",
   "execution_count": null,
   "metadata": {},
   "outputs": [],
   "source": []
  },
  {
   "cell_type": "markdown",
   "metadata": {},
   "source": [
    "### Exercise 5\n",
    "* Extend your model so that you can consider different amounts of context.\n"
   ]
  },
  {
   "cell_type": "code",
   "execution_count": null,
   "metadata": {},
   "outputs": [],
   "source": []
  }
 ],
 "metadata": {
  "kernelspec": {
   "display_name": "Python 3",
   "language": "python",
   "name": "python3"
  },
  "language_info": {
   "codemirror_mode": {
    "name": "ipython",
    "version": 3
   },
   "file_extension": ".py",
   "mimetype": "text/x-python",
   "name": "python",
   "nbconvert_exporter": "python",
   "pygments_lexer": "ipython3",
   "version": "3.7.1"
  }
 },
 "nbformat": 4,
 "nbformat_minor": 1
}
